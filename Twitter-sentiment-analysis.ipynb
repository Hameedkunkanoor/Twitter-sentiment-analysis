{
 "cells": [
  {
   "cell_type": "code",
   "execution_count": 1,
   "metadata": {},
   "outputs": [],
   "source": [
    "import pandas as pd"
   ]
  },
  {
   "cell_type": "code",
   "execution_count": 4,
   "metadata": {},
   "outputs": [
    {
     "output_type": "stream",
     "name": "stdout",
     "text": "Found this dataset long back, Thanks for whoever created it\n"
    }
   ],
   "source": [
    "print(\"Found this dataset long back, Thanks for whoever created it\")\n",
    "train = pd.read_csv('train_tweet.csv')\n",
    "test = pd.read_csv('test_tweets.csv')\n"
   ]
  },
  {
   "cell_type": "code",
   "execution_count": 5,
   "metadata": {},
   "outputs": [
    {
     "output_type": "stream",
     "name": "stdout",
     "text": "Shape of our dataset : \nShape of our training data (31962, 3)\nShape of our testing data (17197, 2)\n"
    }
   ],
   "source": [
    "print(\"Shape of our dataset : \")\n",
    "print(\"Shape of our training data\",end=\" \")\n",
    "print(train.shape)\n",
    "print(\"Shape of our testing data\",end=\" \")\n",
    "print(test.shape)"
   ]
  },
  {
   "cell_type": "code",
   "execution_count": 6,
   "metadata": {},
   "outputs": [
    {
     "output_type": "stream",
     "name": "stdout",
     "text": "Yeah now according to our law we need to visualize the data so lets see how the data looks like\ntraining head\n"
    },
    {
     "output_type": "execute_result",
     "data": {
      "text/plain": "    id  label                                              tweet\n0    1      0   @user when a father is dysfunctional and is s...\n1    2      0  @user @user thanks for #lyft credit i can't us...\n2    3      0                                bihday your majesty\n3    4      0  #model   i love u take with u all the time in ...\n4    5      0             factsguide: society now    #motivation\n5    6      0  [2/2] huge fan fare and big talking before the...\n6    7      0   @user camping tomorrow @user @user @user @use...\n7    8      0  the next school year is the year for exams.ð...\n8    9      0  we won!!! love the land!!! #allin #cavs #champ...\n9   10      0   @user @user welcome here !  i'm   it's so #gr...\n10  11      0   â #ireland consumer price index (mom) climb...\n11  12      0  we are so selfish. #orlando #standwithorlando ...\n12  13      0  i get to see my daddy today!!   #80days #getti...\n13  14      1  @user #cnn calls #michigan middle school 'buil...\n14  15      1  no comment!  in #australia   #opkillingbay #se...\n15  16      0  ouch...junior is angryð#got7 #junior #yugyo...\n16  17      0  i am thankful for having a paner. #thankful #p...\n17  18      1                             retweet if you agree! \n18  19      0  its #friday! ð smiles all around via ig use...\n19  20      0  as we all know, essential oils are not made of...",
      "text/html": "<div>\n<style scoped>\n    .dataframe tbody tr th:only-of-type {\n        vertical-align: middle;\n    }\n\n    .dataframe tbody tr th {\n        vertical-align: top;\n    }\n\n    .dataframe thead th {\n        text-align: right;\n    }\n</style>\n<table border=\"1\" class=\"dataframe\">\n  <thead>\n    <tr style=\"text-align: right;\">\n      <th></th>\n      <th>id</th>\n      <th>label</th>\n      <th>tweet</th>\n    </tr>\n  </thead>\n  <tbody>\n    <tr>\n      <th>0</th>\n      <td>1</td>\n      <td>0</td>\n      <td>@user when a father is dysfunctional and is s...</td>\n    </tr>\n    <tr>\n      <th>1</th>\n      <td>2</td>\n      <td>0</td>\n      <td>@user @user thanks for #lyft credit i can't us...</td>\n    </tr>\n    <tr>\n      <th>2</th>\n      <td>3</td>\n      <td>0</td>\n      <td>bihday your majesty</td>\n    </tr>\n    <tr>\n      <th>3</th>\n      <td>4</td>\n      <td>0</td>\n      <td>#model   i love u take with u all the time in ...</td>\n    </tr>\n    <tr>\n      <th>4</th>\n      <td>5</td>\n      <td>0</td>\n      <td>factsguide: society now    #motivation</td>\n    </tr>\n    <tr>\n      <th>5</th>\n      <td>6</td>\n      <td>0</td>\n      <td>[2/2] huge fan fare and big talking before the...</td>\n    </tr>\n    <tr>\n      <th>6</th>\n      <td>7</td>\n      <td>0</td>\n      <td>@user camping tomorrow @user @user @user @use...</td>\n    </tr>\n    <tr>\n      <th>7</th>\n      <td>8</td>\n      <td>0</td>\n      <td>the next school year is the year for exams.ð...</td>\n    </tr>\n    <tr>\n      <th>8</th>\n      <td>9</td>\n      <td>0</td>\n      <td>we won!!! love the land!!! #allin #cavs #champ...</td>\n    </tr>\n    <tr>\n      <th>9</th>\n      <td>10</td>\n      <td>0</td>\n      <td>@user @user welcome here !  i'm   it's so #gr...</td>\n    </tr>\n    <tr>\n      <th>10</th>\n      <td>11</td>\n      <td>0</td>\n      <td>â #ireland consumer price index (mom) climb...</td>\n    </tr>\n    <tr>\n      <th>11</th>\n      <td>12</td>\n      <td>0</td>\n      <td>we are so selfish. #orlando #standwithorlando ...</td>\n    </tr>\n    <tr>\n      <th>12</th>\n      <td>13</td>\n      <td>0</td>\n      <td>i get to see my daddy today!!   #80days #getti...</td>\n    </tr>\n    <tr>\n      <th>13</th>\n      <td>14</td>\n      <td>1</td>\n      <td>@user #cnn calls #michigan middle school 'buil...</td>\n    </tr>\n    <tr>\n      <th>14</th>\n      <td>15</td>\n      <td>1</td>\n      <td>no comment!  in #australia   #opkillingbay #se...</td>\n    </tr>\n    <tr>\n      <th>15</th>\n      <td>16</td>\n      <td>0</td>\n      <td>ouch...junior is angryð#got7 #junior #yugyo...</td>\n    </tr>\n    <tr>\n      <th>16</th>\n      <td>17</td>\n      <td>0</td>\n      <td>i am thankful for having a paner. #thankful #p...</td>\n    </tr>\n    <tr>\n      <th>17</th>\n      <td>18</td>\n      <td>1</td>\n      <td>retweet if you agree!</td>\n    </tr>\n    <tr>\n      <th>18</th>\n      <td>19</td>\n      <td>0</td>\n      <td>its #friday! ð smiles all around via ig use...</td>\n    </tr>\n    <tr>\n      <th>19</th>\n      <td>20</td>\n      <td>0</td>\n      <td>as we all know, essential oils are not made of...</td>\n    </tr>\n  </tbody>\n</table>\n</div>"
     },
     "metadata": {},
     "execution_count": 6
    }
   ],
   "source": [
    "print(\"Yeah now according to our law we need to visualize the data so lets see how the data looks like\")\n",
    "print(\"Training Data top 20 rows\")\n",
    "train.head(20)"
   ]
  },
  {
   "cell_type": "code",
   "execution_count": 7,
   "metadata": {},
   "outputs": [
    {
     "output_type": "stream",
     "name": "stdout",
     "text": "Testing Data top 20 rows\n"
    },
    {
     "output_type": "execute_result",
     "data": {
      "text/plain": "       id                                              tweet\n0   31963  #studiolife #aislife #requires #passion #dedic...\n1   31964   @user #white #supremacists want everyone to s...\n2   31965  safe ways to heal your #acne!!    #altwaystohe...\n3   31966  is the hp and the cursed child book up for res...\n4   31967    3rd #bihday to my amazing, hilarious #nephew...\n5   31968                        choose to be   :) #momtips \n6   31969  something inside me dies ð¦ð¿â¨  eyes nes...\n7   31970  #finished#tattoo#inked#ink#loveitâ¤ï¸ #â¤ï¸...\n8   31971   @user @user @user i will never understand why...\n9   31972  #delicious   #food #lovelife #capetown mannaep...\n10  31973  1000dayswasted - narcosis infinite ep.. make m...\n11  31974  one of the world's greatest spoing events   #l...\n12  31975  half way through the website now and #allgoing...\n13  31976  good food, good life , #enjoy and   ððð...\n14  31977  i'll stand behind this #guncontrolplease   #se...\n15  31978  i ate,i ate and i ate...ðð   #jamaisasth...\n16  31979   @user got my @user limited edition rain or sh...\n17  31980  &amp; #love &amp; #hugs &amp; #kisses too! how...\n18  31981  ð­ðð #girls   #sun #fave @ london, uni...\n19  31982  thought factory: bbc neutrality on right wing ...",
      "text/html": "<div>\n<style scoped>\n    .dataframe tbody tr th:only-of-type {\n        vertical-align: middle;\n    }\n\n    .dataframe tbody tr th {\n        vertical-align: top;\n    }\n\n    .dataframe thead th {\n        text-align: right;\n    }\n</style>\n<table border=\"1\" class=\"dataframe\">\n  <thead>\n    <tr style=\"text-align: right;\">\n      <th></th>\n      <th>id</th>\n      <th>tweet</th>\n    </tr>\n  </thead>\n  <tbody>\n    <tr>\n      <th>0</th>\n      <td>31963</td>\n      <td>#studiolife #aislife #requires #passion #dedic...</td>\n    </tr>\n    <tr>\n      <th>1</th>\n      <td>31964</td>\n      <td>@user #white #supremacists want everyone to s...</td>\n    </tr>\n    <tr>\n      <th>2</th>\n      <td>31965</td>\n      <td>safe ways to heal your #acne!!    #altwaystohe...</td>\n    </tr>\n    <tr>\n      <th>3</th>\n      <td>31966</td>\n      <td>is the hp and the cursed child book up for res...</td>\n    </tr>\n    <tr>\n      <th>4</th>\n      <td>31967</td>\n      <td>3rd #bihday to my amazing, hilarious #nephew...</td>\n    </tr>\n    <tr>\n      <th>5</th>\n      <td>31968</td>\n      <td>choose to be   :) #momtips</td>\n    </tr>\n    <tr>\n      <th>6</th>\n      <td>31969</td>\n      <td>something inside me dies ð¦ð¿â¨  eyes nes...</td>\n    </tr>\n    <tr>\n      <th>7</th>\n      <td>31970</td>\n      <td>#finished#tattoo#inked#ink#loveitâ¤ï¸ #â¤ï¸...</td>\n    </tr>\n    <tr>\n      <th>8</th>\n      <td>31971</td>\n      <td>@user @user @user i will never understand why...</td>\n    </tr>\n    <tr>\n      <th>9</th>\n      <td>31972</td>\n      <td>#delicious   #food #lovelife #capetown mannaep...</td>\n    </tr>\n    <tr>\n      <th>10</th>\n      <td>31973</td>\n      <td>1000dayswasted - narcosis infinite ep.. make m...</td>\n    </tr>\n    <tr>\n      <th>11</th>\n      <td>31974</td>\n      <td>one of the world's greatest spoing events   #l...</td>\n    </tr>\n    <tr>\n      <th>12</th>\n      <td>31975</td>\n      <td>half way through the website now and #allgoing...</td>\n    </tr>\n    <tr>\n      <th>13</th>\n      <td>31976</td>\n      <td>good food, good life , #enjoy and   ððð...</td>\n    </tr>\n    <tr>\n      <th>14</th>\n      <td>31977</td>\n      <td>i'll stand behind this #guncontrolplease   #se...</td>\n    </tr>\n    <tr>\n      <th>15</th>\n      <td>31978</td>\n      <td>i ate,i ate and i ate...ðð   #jamaisasth...</td>\n    </tr>\n    <tr>\n      <th>16</th>\n      <td>31979</td>\n      <td>@user got my @user limited edition rain or sh...</td>\n    </tr>\n    <tr>\n      <th>17</th>\n      <td>31980</td>\n      <td>&amp;amp; #love &amp;amp; #hugs &amp;amp; #kisses too! how...</td>\n    </tr>\n    <tr>\n      <th>18</th>\n      <td>31981</td>\n      <td>ð­ðð #girls   #sun #fave @ london, uni...</td>\n    </tr>\n    <tr>\n      <th>19</th>\n      <td>31982</td>\n      <td>thought factory: bbc neutrality on right wing ...</td>\n    </tr>\n  </tbody>\n</table>\n</div>"
     },
     "metadata": {},
     "execution_count": 7
    }
   ],
   "source": [
    "print(\"Testing Data top 20 rows\")\n",
    "test.head(20)"
   ]
  },
  {
   "cell_type": "code",
   "execution_count": 10,
   "metadata": {},
   "outputs": [
    {
     "output_type": "stream",
     "name": "stdout",
     "text": "Now its time to see our training data distribution for positive and negative tweeets\ntotal number of positive comments : 2242\ntotal number of negative comments : 29720\n"
    }
   ],
   "source": [
    "print(\"Now its time to see our training data distribution for positive and negative tweeets\")\n",
    "print(\"total number of positive comments : \"+str(len(train[train[\"label\"]==1])))\n",
    "print(\"total number of negative comments : \"+str(len(train[train[\"label\"]==0])))\n",
    "print(\"Oops we see more negative comments than positive ones....... okkk its fine \")\n"
   ]
  },
  {
   "cell_type": "code",
   "execution_count": 12,
   "metadata": {},
   "outputs": [
    {
     "output_type": "stream",
     "name": "stdout",
     "text": "I am also very new to data science, but according to our laws we need to plot bar graphs now\n"
    }
   ],
   "source": [
    "print(\"I am also very new to data science, but according to our laws we need to plot bar graphs now\")\n"
   ]
  },
  {
   "cell_type": "code",
   "execution_count": 14,
   "metadata": {},
   "outputs": [
    {
     "output_type": "stream",
     "name": "stdout",
     "text": "matplotlib is a library for data visualization ....yeah yeah i know you know that -> matplotlib is for visualization, but i don't know so its just for my reference\n"
    }
   ],
   "source": [
    "import matplotlib.pyplot as plt\n",
    "print(\"matplotlib is a library for data visualization ....yeah yeah i know you know that -> matplotlib is for visualization, but i don't know so its just for my reference\")"
   ]
  },
  {
   "cell_type": "code",
   "execution_count": 18,
   "metadata": {},
   "outputs": [
    {
     "output_type": "error",
     "ename": "NameError",
     "evalue": "name 'plot' is not defined",
     "traceback": [
      "\u001b[0;31m---------------------------------------------------------------------------\u001b[0m",
      "\u001b[0;31mNameError\u001b[0m                                 Traceback (most recent call last)",
      "\u001b[0;32m<ipython-input-18-965e21d84c05>\u001b[0m in \u001b[0;36m<module>\u001b[0;34m\u001b[0m\n\u001b[0;32m----> 1\u001b[0;31m \u001b[0mplot\u001b[0m\u001b[0;34m.\u001b[0m\u001b[0mbar\u001b[0m\u001b[0;34m(\u001b[0m\u001b[0mtrain\u001b[0m\u001b[0;34m[\u001b[0m\u001b[0;34m'label'\u001b[0m\u001b[0;34m]\u001b[0m\u001b[0;34m.\u001b[0m\u001b[0mvalue_counts\u001b[0m\u001b[0;34m(\u001b[0m\u001b[0;34m)\u001b[0m\u001b[0;34m,\u001b[0m\u001b[0mheight\u001b[0m\u001b[0;34m=\u001b[0m\u001b[0;36m300\u001b[0m\u001b[0;34m)\u001b[0m\u001b[0;34m\u001b[0m\u001b[0;34m\u001b[0m\u001b[0m\n\u001b[0m",
      "\u001b[0;31mNameError\u001b[0m: name 'plot' is not defined"
     ]
    }
   ],
   "source": [
    "plt.bar(train['label'].value_counts(),height=300)"
   ]
  },
  {
   "cell_type": "code",
   "execution_count": null,
   "metadata": {},
   "outputs": [],
   "source": []
  }
 ],
 "metadata": {
  "language_info": {
   "codemirror_mode": {
    "name": "ipython",
    "version": 3
   },
   "file_extension": ".py",
   "mimetype": "text/x-python",
   "name": "python",
   "nbconvert_exporter": "python",
   "pygments_lexer": "ipython3",
   "version": "3.6.10-final"
  },
  "orig_nbformat": 2,
  "kernelspec": {
   "name": "python361064bitfc1fc2b22b7a46af971673e48cf69fec",
   "display_name": "Python 3.6.10 64-bit"
  }
 },
 "nbformat": 4,
 "nbformat_minor": 2
}